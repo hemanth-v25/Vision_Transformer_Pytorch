{
 "cells": [
  {
   "cell_type": "code",
   "execution_count": 1,
   "metadata": {},
   "outputs": [],
   "source": [
    "import sys\n",
    "import os\n",
    "import pickle\n",
    "import numpy as np\n",
    "\n",
    "class CIFAR:\n",
    "    def __init__(self,path):\n",
    "        \n",
    "        self.train_filenames = [path+'/'+f'data_batch_{i}' for i in range(1,6)]\n",
    "        self.meta_file = path+'/'+'batches.meta'\n",
    "        self.test_filename = path+'/'+'test_batch'\n",
    "        \n",
    "        self.train_images = np.zeros((50000,3,32,32), dtype='uint8')\n",
    "        self.train_labels = np.zeros((50000,), dtype='int32')\n",
    "        \n",
    "        \n",
    "        \n",
    "    def get_train_data(self):\n",
    "        \n",
    "        for i,file in enumerate(self.train_filenames):\n",
    "            with open(file, 'rb') as fo:\n",
    "                dict = pickle.load(fo, encoding='bytes')\n",
    "            \n",
    "            \n",
    "            self.train_images[i*10000:10000*(i+1),:,:,:] =  dict[b'data'].reshape(10000,3,32,32)\n",
    "            self.train_labels[i*10000:10000*(i+1)] = dict[b'labels']\n",
    "            \n",
    "        \n",
    "        self.train_images = (self.train_images -  127.5) / 127.5\n",
    "        return self.train_images, self.train_labels"
   ]
  },
  {
   "cell_type": "code",
   "execution_count": 4,
   "metadata": {},
   "outputs": [],
   "source": [
    "path = '/Volumes/E/PapersWithCode/GAN/Data/cifar-10-batches-py'\n",
    "\n",
    "data_class = CIFAR(path)\n",
    "train_images, train_labels = data_class.get_train_data()"
   ]
  },
  {
   "cell_type": "code",
   "execution_count": 8,
   "metadata": {},
   "outputs": [
    {
     "data": {
      "text/plain": [
       "(50000,)"
      ]
     },
     "execution_count": 8,
     "metadata": {},
     "output_type": "execute_result"
    }
   ],
   "source": [
    "train_labels.shape"
   ]
  },
  {
   "cell_type": "code",
   "execution_count": null,
   "metadata": {},
   "outputs": [],
   "source": []
  }
 ],
 "metadata": {
  "kernelspec": {
   "display_name": "ml",
   "language": "python",
   "name": "python3"
  },
  "language_info": {
   "codemirror_mode": {
    "name": "ipython",
    "version": 3
   },
   "file_extension": ".py",
   "mimetype": "text/x-python",
   "name": "python",
   "nbconvert_exporter": "python",
   "pygments_lexer": "ipython3",
   "version": "3.11.4"
  }
 },
 "nbformat": 4,
 "nbformat_minor": 2
}
